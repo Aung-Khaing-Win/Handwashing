{
 "cells": [
  {
   "cell_type": "code",
   "execution_count": 1,
   "metadata": {},
   "outputs": [],
   "source": [
    "t = 10\n",
    "v = 3\n",
    "x = 1/2\n",
    "y = v/2 \n",
    "B_x_y = (factorial((x-1)) * factorial((y-1)))/ factorial((x+y-1))\n",
    "# when x and y are positive integers, otherwise we need more complex formula \n",
    "# we can just use beta function to derive this \n",
    "# B_x_y = beta(x,y)\n",
    "\n",
    "# t-distribution \n",
    "f_t = (1/(sqrt(v)* B_x_y) *(1 + t^2/v)^(-((v+1)/2)))\n",
    "\n",
    "# all of above can be done simply by using inbuilt R function dt \n",
    "# dt(10,3)"
   ]
  },
  {
   "cell_type": "code",
   "execution_count": 2,
   "metadata": {},
   "outputs": [
    {
     "data": {
      "text/html": [
       "0.000311808216847088"
      ],
      "text/latex": [
       "0.000311808216847088"
      ],
      "text/markdown": [
       "0.000311808216847088"
      ],
      "text/plain": [
       "[1] 0.0003118082"
      ]
     },
     "metadata": {},
     "output_type": "display_data"
    }
   ],
   "source": [
    "f_t"
   ]
  },
  {
   "cell_type": "code",
   "execution_count": null,
   "metadata": {},
   "outputs": [],
   "source": []
  }
 ],
 "metadata": {
  "kernelspec": {
   "display_name": "R",
   "language": "R",
   "name": "ir"
  },
  "language_info": {
   "codemirror_mode": "r",
   "file_extension": ".r",
   "mimetype": "text/x-r-source",
   "name": "R",
   "pygments_lexer": "r",
   "version": "3.6.1"
  }
 },
 "nbformat": 4,
 "nbformat_minor": 4
}
