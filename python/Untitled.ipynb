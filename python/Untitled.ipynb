{
 "cells": [
  {
   "cell_type": "code",
   "execution_count": 9,
   "metadata": {},
   "outputs": [],
   "source": [
    "t = 10\n",
    "v = 3\n",
    "x = 1/2\n",
    "y = v/2 \n",
    "B_x_y = (factorial((x-1)) * factorial((y-1)))/ factorial((x+y-1))\n",
    "# when x and y are positive integers, otherwise we need more complex formula \n",
    "# we can just use beta function to derive this \n",
    "# B_x_y = beta(x,y)\n",
    "\n",
    "# t-distribution \n",
    "f_t = (1/(sqrt(v)* B_x_y) *(1 + t^2/v)^(-((v+1)/2)))\n",
    "\n",
    "# all of above can be done simply by using inbuilt R function dt \n",
    "# dt(10,3)"
   ]
  },
  {
   "cell_type": "code",
   "execution_count": 46,
   "metadata": {},
   "outputs": [],
   "source": [
    "ft1 <- rep(NA, 100) \n",
    "tv <- seq(0, 3, 1)\n",
    "\n",
    "for ( i in 1:length(tv)){\n",
    "  t = tv[i]\n",
    "  v = 3\n",
    "  x = 1/2\n",
    "  y = v/2 \n",
    "  B_x_y <- (factorial((x-1)) * factorial((y-1)))/ factorial((x+y-1))\n",
    "  ft1[i] <- (1/(sqrt(v)* B_x_y) *(1 + t^2/v)^(-((v+1)/2)))\n",
    "}      \n"
   ]
  },
  {
   "cell_type": "code",
   "execution_count": 47,
   "metadata": {},
   "outputs": [
    {
     "data": {
      "text/html": [
       "<ol class=list-inline>\n",
       "\t<li>0</li>\n",
       "\t<li>1</li>\n",
       "\t<li>2</li>\n",
       "\t<li>3</li>\n",
       "</ol>\n"
      ],
      "text/latex": [
       "\\begin{enumerate*}\n",
       "\\item 0\n",
       "\\item 1\n",
       "\\item 2\n",
       "\\item 3\n",
       "\\end{enumerate*}\n"
      ],
      "text/markdown": [
       "1. 0\n",
       "2. 1\n",
       "3. 2\n",
       "4. 3\n",
       "\n",
       "\n"
      ],
      "text/plain": [
       "[1] 0 1 2 3"
      ]
     },
     "metadata": {},
     "output_type": "display_data"
    }
   ],
   "source": [
    "tv"
   ]
  },
  {
   "cell_type": "code",
   "execution_count": 48,
   "metadata": {},
   "outputs": [
    {
     "data": {
      "text/html": [
       "<ol class=list-inline>\n",
       "\t<li>0.367552596947861</li>\n",
       "\t<li>0.206748335783172</li>\n",
       "\t<li>0.0675096606638929</li>\n",
       "\t<li>0.0229720373092413</li>\n",
       "\t<li>&lt;NA&gt;</li>\n",
       "\t<li>&lt;NA&gt;</li>\n",
       "\t<li>&lt;NA&gt;</li>\n",
       "\t<li>&lt;NA&gt;</li>\n",
       "\t<li>&lt;NA&gt;</li>\n",
       "\t<li>&lt;NA&gt;</li>\n",
       "\t<li>&lt;NA&gt;</li>\n",
       "\t<li>&lt;NA&gt;</li>\n",
       "\t<li>&lt;NA&gt;</li>\n",
       "\t<li>&lt;NA&gt;</li>\n",
       "\t<li>&lt;NA&gt;</li>\n",
       "\t<li>&lt;NA&gt;</li>\n",
       "\t<li>&lt;NA&gt;</li>\n",
       "\t<li>&lt;NA&gt;</li>\n",
       "\t<li>&lt;NA&gt;</li>\n",
       "\t<li>&lt;NA&gt;</li>\n",
       "\t<li>&lt;NA&gt;</li>\n",
       "\t<li>&lt;NA&gt;</li>\n",
       "\t<li>&lt;NA&gt;</li>\n",
       "\t<li>&lt;NA&gt;</li>\n",
       "\t<li>&lt;NA&gt;</li>\n",
       "\t<li>&lt;NA&gt;</li>\n",
       "\t<li>&lt;NA&gt;</li>\n",
       "\t<li>&lt;NA&gt;</li>\n",
       "\t<li>&lt;NA&gt;</li>\n",
       "\t<li>&lt;NA&gt;</li>\n",
       "\t<li>&lt;NA&gt;</li>\n",
       "\t<li>&lt;NA&gt;</li>\n",
       "\t<li>&lt;NA&gt;</li>\n",
       "\t<li>&lt;NA&gt;</li>\n",
       "\t<li>&lt;NA&gt;</li>\n",
       "\t<li>&lt;NA&gt;</li>\n",
       "\t<li>&lt;NA&gt;</li>\n",
       "\t<li>&lt;NA&gt;</li>\n",
       "\t<li>&lt;NA&gt;</li>\n",
       "\t<li>&lt;NA&gt;</li>\n",
       "\t<li>&lt;NA&gt;</li>\n",
       "\t<li>&lt;NA&gt;</li>\n",
       "\t<li>&lt;NA&gt;</li>\n",
       "\t<li>&lt;NA&gt;</li>\n",
       "\t<li>&lt;NA&gt;</li>\n",
       "\t<li>&lt;NA&gt;</li>\n",
       "\t<li>&lt;NA&gt;</li>\n",
       "\t<li>&lt;NA&gt;</li>\n",
       "\t<li>&lt;NA&gt;</li>\n",
       "\t<li>&lt;NA&gt;</li>\n",
       "\t<li>&lt;NA&gt;</li>\n",
       "\t<li>&lt;NA&gt;</li>\n",
       "\t<li>&lt;NA&gt;</li>\n",
       "\t<li>&lt;NA&gt;</li>\n",
       "\t<li>&lt;NA&gt;</li>\n",
       "\t<li>&lt;NA&gt;</li>\n",
       "\t<li>&lt;NA&gt;</li>\n",
       "\t<li>&lt;NA&gt;</li>\n",
       "\t<li>&lt;NA&gt;</li>\n",
       "\t<li>&lt;NA&gt;</li>\n",
       "\t<li>&lt;NA&gt;</li>\n",
       "\t<li>&lt;NA&gt;</li>\n",
       "\t<li>&lt;NA&gt;</li>\n",
       "\t<li>&lt;NA&gt;</li>\n",
       "\t<li>&lt;NA&gt;</li>\n",
       "\t<li>&lt;NA&gt;</li>\n",
       "\t<li>&lt;NA&gt;</li>\n",
       "\t<li>&lt;NA&gt;</li>\n",
       "\t<li>&lt;NA&gt;</li>\n",
       "\t<li>&lt;NA&gt;</li>\n",
       "\t<li>&lt;NA&gt;</li>\n",
       "\t<li>&lt;NA&gt;</li>\n",
       "\t<li>&lt;NA&gt;</li>\n",
       "\t<li>&lt;NA&gt;</li>\n",
       "\t<li>&lt;NA&gt;</li>\n",
       "\t<li>&lt;NA&gt;</li>\n",
       "\t<li>&lt;NA&gt;</li>\n",
       "\t<li>&lt;NA&gt;</li>\n",
       "\t<li>&lt;NA&gt;</li>\n",
       "\t<li>&lt;NA&gt;</li>\n",
       "\t<li>&lt;NA&gt;</li>\n",
       "\t<li>&lt;NA&gt;</li>\n",
       "\t<li>&lt;NA&gt;</li>\n",
       "\t<li>&lt;NA&gt;</li>\n",
       "\t<li>&lt;NA&gt;</li>\n",
       "\t<li>&lt;NA&gt;</li>\n",
       "\t<li>&lt;NA&gt;</li>\n",
       "\t<li>&lt;NA&gt;</li>\n",
       "\t<li>&lt;NA&gt;</li>\n",
       "\t<li>&lt;NA&gt;</li>\n",
       "\t<li>&lt;NA&gt;</li>\n",
       "\t<li>&lt;NA&gt;</li>\n",
       "\t<li>&lt;NA&gt;</li>\n",
       "\t<li>&lt;NA&gt;</li>\n",
       "\t<li>&lt;NA&gt;</li>\n",
       "\t<li>&lt;NA&gt;</li>\n",
       "\t<li>&lt;NA&gt;</li>\n",
       "\t<li>&lt;NA&gt;</li>\n",
       "\t<li>&lt;NA&gt;</li>\n",
       "\t<li>&lt;NA&gt;</li>\n",
       "</ol>\n"
      ],
      "text/latex": [
       "\\begin{enumerate*}\n",
       "\\item 0.367552596947861\n",
       "\\item 0.206748335783172\n",
       "\\item 0.0675096606638929\n",
       "\\item 0.0229720373092413\n",
       "\\item <NA>\n",
       "\\item <NA>\n",
       "\\item <NA>\n",
       "\\item <NA>\n",
       "\\item <NA>\n",
       "\\item <NA>\n",
       "\\item <NA>\n",
       "\\item <NA>\n",
       "\\item <NA>\n",
       "\\item <NA>\n",
       "\\item <NA>\n",
       "\\item <NA>\n",
       "\\item <NA>\n",
       "\\item <NA>\n",
       "\\item <NA>\n",
       "\\item <NA>\n",
       "\\item <NA>\n",
       "\\item <NA>\n",
       "\\item <NA>\n",
       "\\item <NA>\n",
       "\\item <NA>\n",
       "\\item <NA>\n",
       "\\item <NA>\n",
       "\\item <NA>\n",
       "\\item <NA>\n",
       "\\item <NA>\n",
       "\\item <NA>\n",
       "\\item <NA>\n",
       "\\item <NA>\n",
       "\\item <NA>\n",
       "\\item <NA>\n",
       "\\item <NA>\n",
       "\\item <NA>\n",
       "\\item <NA>\n",
       "\\item <NA>\n",
       "\\item <NA>\n",
       "\\item <NA>\n",
       "\\item <NA>\n",
       "\\item <NA>\n",
       "\\item <NA>\n",
       "\\item <NA>\n",
       "\\item <NA>\n",
       "\\item <NA>\n",
       "\\item <NA>\n",
       "\\item <NA>\n",
       "\\item <NA>\n",
       "\\item <NA>\n",
       "\\item <NA>\n",
       "\\item <NA>\n",
       "\\item <NA>\n",
       "\\item <NA>\n",
       "\\item <NA>\n",
       "\\item <NA>\n",
       "\\item <NA>\n",
       "\\item <NA>\n",
       "\\item <NA>\n",
       "\\item <NA>\n",
       "\\item <NA>\n",
       "\\item <NA>\n",
       "\\item <NA>\n",
       "\\item <NA>\n",
       "\\item <NA>\n",
       "\\item <NA>\n",
       "\\item <NA>\n",
       "\\item <NA>\n",
       "\\item <NA>\n",
       "\\item <NA>\n",
       "\\item <NA>\n",
       "\\item <NA>\n",
       "\\item <NA>\n",
       "\\item <NA>\n",
       "\\item <NA>\n",
       "\\item <NA>\n",
       "\\item <NA>\n",
       "\\item <NA>\n",
       "\\item <NA>\n",
       "\\item <NA>\n",
       "\\item <NA>\n",
       "\\item <NA>\n",
       "\\item <NA>\n",
       "\\item <NA>\n",
       "\\item <NA>\n",
       "\\item <NA>\n",
       "\\item <NA>\n",
       "\\item <NA>\n",
       "\\item <NA>\n",
       "\\item <NA>\n",
       "\\item <NA>\n",
       "\\item <NA>\n",
       "\\item <NA>\n",
       "\\item <NA>\n",
       "\\item <NA>\n",
       "\\item <NA>\n",
       "\\item <NA>\n",
       "\\item <NA>\n",
       "\\item <NA>\n",
       "\\end{enumerate*}\n"
      ],
      "text/markdown": [
       "1. 0.367552596947861\n",
       "2. 0.206748335783172\n",
       "3. 0.0675096606638929\n",
       "4. 0.0229720373092413\n",
       "5. &lt;NA&gt;\n",
       "6. &lt;NA&gt;\n",
       "7. &lt;NA&gt;\n",
       "8. &lt;NA&gt;\n",
       "9. &lt;NA&gt;\n",
       "10. &lt;NA&gt;\n",
       "11. &lt;NA&gt;\n",
       "12. &lt;NA&gt;\n",
       "13. &lt;NA&gt;\n",
       "14. &lt;NA&gt;\n",
       "15. &lt;NA&gt;\n",
       "16. &lt;NA&gt;\n",
       "17. &lt;NA&gt;\n",
       "18. &lt;NA&gt;\n",
       "19. &lt;NA&gt;\n",
       "20. &lt;NA&gt;\n",
       "21. &lt;NA&gt;\n",
       "22. &lt;NA&gt;\n",
       "23. &lt;NA&gt;\n",
       "24. &lt;NA&gt;\n",
       "25. &lt;NA&gt;\n",
       "26. &lt;NA&gt;\n",
       "27. &lt;NA&gt;\n",
       "28. &lt;NA&gt;\n",
       "29. &lt;NA&gt;\n",
       "30. &lt;NA&gt;\n",
       "31. &lt;NA&gt;\n",
       "32. &lt;NA&gt;\n",
       "33. &lt;NA&gt;\n",
       "34. &lt;NA&gt;\n",
       "35. &lt;NA&gt;\n",
       "36. &lt;NA&gt;\n",
       "37. &lt;NA&gt;\n",
       "38. &lt;NA&gt;\n",
       "39. &lt;NA&gt;\n",
       "40. &lt;NA&gt;\n",
       "41. &lt;NA&gt;\n",
       "42. &lt;NA&gt;\n",
       "43. &lt;NA&gt;\n",
       "44. &lt;NA&gt;\n",
       "45. &lt;NA&gt;\n",
       "46. &lt;NA&gt;\n",
       "47. &lt;NA&gt;\n",
       "48. &lt;NA&gt;\n",
       "49. &lt;NA&gt;\n",
       "50. &lt;NA&gt;\n",
       "51. &lt;NA&gt;\n",
       "52. &lt;NA&gt;\n",
       "53. &lt;NA&gt;\n",
       "54. &lt;NA&gt;\n",
       "55. &lt;NA&gt;\n",
       "56. &lt;NA&gt;\n",
       "57. &lt;NA&gt;\n",
       "58. &lt;NA&gt;\n",
       "59. &lt;NA&gt;\n",
       "60. &lt;NA&gt;\n",
       "61. &lt;NA&gt;\n",
       "62. &lt;NA&gt;\n",
       "63. &lt;NA&gt;\n",
       "64. &lt;NA&gt;\n",
       "65. &lt;NA&gt;\n",
       "66. &lt;NA&gt;\n",
       "67. &lt;NA&gt;\n",
       "68. &lt;NA&gt;\n",
       "69. &lt;NA&gt;\n",
       "70. &lt;NA&gt;\n",
       "71. &lt;NA&gt;\n",
       "72. &lt;NA&gt;\n",
       "73. &lt;NA&gt;\n",
       "74. &lt;NA&gt;\n",
       "75. &lt;NA&gt;\n",
       "76. &lt;NA&gt;\n",
       "77. &lt;NA&gt;\n",
       "78. &lt;NA&gt;\n",
       "79. &lt;NA&gt;\n",
       "80. &lt;NA&gt;\n",
       "81. &lt;NA&gt;\n",
       "82. &lt;NA&gt;\n",
       "83. &lt;NA&gt;\n",
       "84. &lt;NA&gt;\n",
       "85. &lt;NA&gt;\n",
       "86. &lt;NA&gt;\n",
       "87. &lt;NA&gt;\n",
       "88. &lt;NA&gt;\n",
       "89. &lt;NA&gt;\n",
       "90. &lt;NA&gt;\n",
       "91. &lt;NA&gt;\n",
       "92. &lt;NA&gt;\n",
       "93. &lt;NA&gt;\n",
       "94. &lt;NA&gt;\n",
       "95. &lt;NA&gt;\n",
       "96. &lt;NA&gt;\n",
       "97. &lt;NA&gt;\n",
       "98. &lt;NA&gt;\n",
       "99. &lt;NA&gt;\n",
       "100. &lt;NA&gt;\n",
       "\n",
       "\n"
      ],
      "text/plain": [
       "  [1] 0.36755260 0.20674834 0.06750966 0.02297204         NA         NA\n",
       "  [7]         NA         NA         NA         NA         NA         NA\n",
       " [13]         NA         NA         NA         NA         NA         NA\n",
       " [19]         NA         NA         NA         NA         NA         NA\n",
       " [25]         NA         NA         NA         NA         NA         NA\n",
       " [31]         NA         NA         NA         NA         NA         NA\n",
       " [37]         NA         NA         NA         NA         NA         NA\n",
       " [43]         NA         NA         NA         NA         NA         NA\n",
       " [49]         NA         NA         NA         NA         NA         NA\n",
       " [55]         NA         NA         NA         NA         NA         NA\n",
       " [61]         NA         NA         NA         NA         NA         NA\n",
       " [67]         NA         NA         NA         NA         NA         NA\n",
       " [73]         NA         NA         NA         NA         NA         NA\n",
       " [79]         NA         NA         NA         NA         NA         NA\n",
       " [85]         NA         NA         NA         NA         NA         NA\n",
       " [91]         NA         NA         NA         NA         NA         NA\n",
       " [97]         NA         NA         NA         NA"
      ]
     },
     "metadata": {},
     "output_type": "display_data"
    }
   ],
   "source": [
    "ft1"
   ]
  },
  {
   "cell_type": "code",
   "execution_count": 49,
   "metadata": {},
   "outputs": [
    {
     "data": {
      "text/html": [
       "0.000311808216847088"
      ],
      "text/latex": [
       "0.000311808216847088"
      ],
      "text/markdown": [
       "0.000311808216847088"
      ],
      "text/plain": [
       "[1] 0.0003118082"
      ]
     },
     "metadata": {},
     "output_type": "display_data"
    }
   ],
   "source": [
    "f_t"
   ]
  },
  {
   "cell_type": "code",
   "execution_count": 9,
   "metadata": {},
   "outputs": [
    {
     "data": {
      "text/html": [
       "0.886226925452758"
      ],
      "text/latex": [
       "0.886226925452758"
      ],
      "text/markdown": [
       "0.886226925452758"
      ],
      "text/plain": [
       "[1] 0.8862269"
      ]
     },
     "metadata": {},
     "output_type": "display_data"
    }
   ],
   "source": [
    "# pt(q, df)\n",
    "# q is quantile\n",
    "# Say we want 99% probability value (alpha = 0.01) for 3 df (looking table)\n",
    "qt(0.99, 3)\n"
   ]
  },
  {
   "cell_type": "markdown",
   "metadata": {},
   "source": [
    "0.001064<br>\n",
    "0.000311<br>"
   ]
  },
  {
   "cell_type": "code",
   "execution_count": 50,
   "metadata": {},
   "outputs": [
    {
     "data": {
      "text/html": [
       "0.000311808216847088"
      ],
      "text/latex": [
       "0.000311808216847088"
      ],
      "text/markdown": [
       "0.000311808216847088"
      ],
      "text/plain": [
       "[1] 0.0003118082"
      ]
     },
     "metadata": {},
     "output_type": "display_data"
    }
   ],
   "source": [
    "dt(10,3)"
   ]
  },
  {
   "cell_type": "code",
   "execution_count": 4,
   "metadata": {},
   "outputs": [
    {
     "data": {
      "text/html": [
       "1.57079632679398"
      ],
      "text/latex": [
       "1.57079632679398"
      ],
      "text/markdown": [
       "1.57079632679398"
      ],
      "text/plain": [
       "[1] 1.570796"
      ]
     },
     "metadata": {},
     "output_type": "display_data"
    }
   ],
   "source": [
    "1.77245385091 * 0.88622692545"
   ]
  },
  {
   "cell_type": "code",
   "execution_count": 51,
   "metadata": {},
   "outputs": [
    {
     "data": {
      "text/html": [
       "<pre class=language-r><code>function (x, df, ncp, log = FALSE) \n",
       "{\n",
       "<span style=white-space:pre-wrap>    if (missing(ncp)) </span>\n",
       "<span style=white-space:pre-wrap>        .Call(C_dt, x, df, log)</span>\n",
       "<span style=white-space:pre-wrap>    else .Call(C_dnt, x, df, ncp, log)</span>\n",
       "}</code></pre>"
      ],
      "text/latex": [
       "\\begin{minted}{r}\n",
       "function (x, df, ncp, log = FALSE) \n",
       "\\{\n",
       "    if (missing(ncp)) \n",
       "        .Call(C\\_dt, x, df, log)\n",
       "    else .Call(C\\_dnt, x, df, ncp, log)\n",
       "\\}\n",
       "\\end{minted}"
      ],
      "text/markdown": [
       "```r\n",
       "function (x, df, ncp, log = FALSE) \n",
       "{\n",
       "    if (missing(ncp)) \n",
       "        .Call(C_dt, x, df, log)\n",
       "    else .Call(C_dnt, x, df, ncp, log)\n",
       "}\n",
       "```"
      ],
      "text/plain": [
       "function (x, df, ncp, log = FALSE) \n",
       "{\n",
       "    if (missing(ncp)) \n",
       "        .Call(C_dt, x, df, log)\n",
       "    else .Call(C_dnt, x, df, ncp, log)\n",
       "}\n",
       "<bytecode: 0x562cfba37910>\n",
       "<environment: namespace:stats>"
      ]
     },
     "metadata": {},
     "output_type": "display_data"
    }
   ],
   "source": [
    "dt"
   ]
  },
  {
   "cell_type": "code",
   "execution_count": null,
   "metadata": {},
   "outputs": [],
   "source": []
  }
 ],
 "metadata": {
  "kernelspec": {
   "display_name": "R",
   "language": "R",
   "name": "ir"
  },
  "language_info": {
   "codemirror_mode": "r",
   "file_extension": ".r",
   "mimetype": "text/x-r-source",
   "name": "R",
   "pygments_lexer": "r",
   "version": "3.6.1"
  }
 },
 "nbformat": 4,
 "nbformat_minor": 4
}
